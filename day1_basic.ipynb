{
  "nbformat": 4,
  "nbformat_minor": 0,
  "metadata": {
    "colab": {
      "provenance": []
    },
    "kernelspec": {
      "name": "python3",
      "display_name": "Python 3"
    },
    "language_info": {
      "name": "python"
    }
  },
  "cells": [
    {
      "cell_type": "code",
      "execution_count": 1,
      "metadata": {
        "colab": {
          "base_uri": "https://localhost:8080/"
        },
        "id": "h-rSFR1F4UUY",
        "outputId": "741ac606-98e5-4b8c-f7b7-33e7e8010ec2"
      },
      "outputs": [
        {
          "output_type": "stream",
          "name": "stdout",
          "text": [
            "Я учусь у Python 3.11\n"
          ]
        }
      ],
      "source": [
        "# 1. Переменные и f-строки\n",
        "name = \"Python\"\n",
        "version = 3.11\n",
        "print(f\"Я учусь у {name} {version}\")"
      ]
    },
    {
      "cell_type": "code",
      "source": [
        "# 2. Цикл for и список\n",
        "languages = [\"Python\", \"C++\", \"Java\", \"Go\"]\n",
        "for i, lang in enumerate(languages, 1):\n",
        "    print(f\"{i}. {lang}\")"
      ],
      "metadata": {
        "colab": {
          "base_uri": "https://localhost:8080/"
        },
        "id": "o6RZA08B4iMf",
        "outputId": "dc476bdd-4cf4-4649-fef6-b13965d56e68"
      },
      "execution_count": 2,
      "outputs": [
        {
          "output_type": "stream",
          "name": "stdout",
          "text": [
            "1. Python\n",
            "2. C++\n",
            "3. Java\n",
            "4. Go\n"
          ]
        }
      ]
    },
    {
      "cell_type": "code",
      "source": [
        "# 3. Функция is_even\n",
        "def is_even(n):\n",
        "    return n % 2 == 0\n",
        "\n",
        "# проверим\n",
        "for num in range(5):\n",
        "    print(f\"{num} чётное? {is_even(num)}\")"
      ],
      "metadata": {
        "colab": {
          "base_uri": "https://localhost:8080/"
        },
        "id": "83CApG0A4lhO",
        "outputId": "b92d4755-4eee-4f5c-b57e-c6de6866c8ba"
      },
      "execution_count": 3,
      "outputs": [
        {
          "output_type": "stream",
          "name": "stdout",
          "text": [
            "0 чётное? True\n",
            "1 чётное? False\n",
            "2 чётное? True\n",
            "3 чётное? False\n",
            "4 чётное? True\n"
          ]
        }
      ]
    },
    {
      "cell_type": "code",
      "source": [
        "# 4. Посчитать сумму всех чётных от 0 до 100\n",
        "print(\"Сумма чётных от 0 до 100 =\", sum(i for i in range(101) if i % 2 == 0))"
      ],
      "metadata": {
        "colab": {
          "base_uri": "https://localhost:8080/"
        },
        "id": "IuUgHXZF4oxq",
        "outputId": "5029fbc1-6eb7-4afb-b4dc-b908805d8178"
      },
      "execution_count": 4,
      "outputs": [
        {
          "output_type": "stream",
          "name": "stdout",
          "text": [
            "Сумма чётных от 0 до 100 = 2550\n"
          ]
        }
      ]
    }
  ]
}